{
 "cells": [
  {
   "cell_type": "markdown",
   "metadata": {},
   "source": [
    "Here is our Final Project! Yay \n",
    "\n",
    "Hypothesis: Species b and c are most closely related \n",
    "\n",
    "\n",
    "species a = a minke whale\n",
    "\n",
    "species b = hippopotamus\n",
    "\n",
    "species c = wild boar\n",
    "\n",
    "First, import the DNA of the mammals."
   ]
  },
  {
   "cell_type": "code",
   "execution_count": 24,
   "metadata": {},
   "outputs": [],
   "source": [
    "whale = open(\"1a_CSN2_DNA.txt\").read()\n",
    "hippo = open(\"1b_CSN2_DNA.txt\").read()\n",
    "boar = open(\"1c_CSN2_DNA.txt\").read()"
   ]
  },
  {
   "cell_type": "markdown",
   "metadata": {},
   "source": [
    "Make a function!"
   ]
  },
  {
   "cell_type": "code",
   "execution_count": 73,
   "metadata": {},
   "outputs": [],
   "source": [
    "def relation(anml1, anml2): \n",
    "    diff = 0  \n",
    "    for c, i in enumerate(anml1):\n",
    "        if i != anml2[c]:\n",
    "            diff += 1\n",
    "    \n",
    "def percen(anml1, anml2):\n",
    "    diff = 0  \n",
    "    for c, i in enumerate(anml1):\n",
    "        if i != anml2[c]:\n",
    "            diff += 1\n",
    "    return diff/len(anml1)*100\n",
    "    \n",
    "#Set the percents of the animals as variable so that we can use them for the graph later on\n",
    "\n"
   ]
  },
  {
   "cell_type": "markdown",
   "metadata": {},
   "source": [
    "Calculate the differences"
   ]
  },
  {
   "cell_type": "code",
   "execution_count": 74,
   "metadata": {},
   "outputs": [],
   "source": [
    "relation(whale, hippo)\n",
    "M_H = percen(whale, hippo)\n",
    "\n",
    "\n",
    "#There is a 23% difference in the genetic code for the casein protein in hippopotamuses and minke whales"
   ]
  },
  {
   "cell_type": "code",
   "execution_count": 75,
   "metadata": {},
   "outputs": [],
   "source": [
    "relation(hippo, boar)\n",
    "M_S = percen(hippo, boar)\n",
    "\n",
    "\n",
    "#There is a 71% difference in the genetic code for the casein protein in hippopotamuses and wild boars"
   ]
  },
  {
   "cell_type": "code",
   "execution_count": 76,
   "metadata": {},
   "outputs": [],
   "source": [
    "relation(whale, boar)\n",
    "H_S = percen(whale, boar)\n",
    "#There is a 72% difference in the genetic code for the casein protein in minke whales and wild boars"
   ]
  },
  {
   "cell_type": "markdown",
   "metadata": {},
   "source": [
    "To conclude, my group's hypothesis was wrong.\n",
    "\n",
    "We believed that the wild boar and the hippopotamus were the most similar, \n",
    "however our data shows that the minke whale and the hippopotamus (23% difference vs 71% difference) were even more alike. \n",
    "\n",
    "The wild boar and the minke whale have the most differences. (72% difference)\n"
   ]
  },
  {
   "cell_type": "markdown",
   "metadata": {},
   "source": [
    "Now, let's create a graph with our data!"
   ]
  },
  {
   "cell_type": "code",
   "execution_count": 78,
   "metadata": {},
   "outputs": [
    {
     "data": {
      "image/png": "[encoded data removed]",
      "text/plain": [
       "<Figure size 432x288 with 1 Axes>"
      ]
     },
     "metadata": {
      "needs_background": "light"
     },
     "output_type": "display_data"
    }
   ],
   "source": [
    "import matplotlib.pyplot as plt\n",
    "\n",
    "plt.bar(1, M_H, color = \"lightcoral\", label = \"23%\")\n",
    "plt.bar(2, H_S, color = \"mediumaquamarine\", label = \"72%\")\n",
    "plt.bar(3, M_S, color = \"royalblue\", label = \"71.6%\")\n",
    "plt.xticks([1,2,3], [\"Whale & Hippo\", \"Hippo & Boar\", \"Whale & Boar\"])\n",
    "plt.title(\"Percentage of Differences in DNA\")\n",
    "plt.legend()\n",
    "plt.show()"
   ]
  },
  {
   "cell_type": "code",
   "execution_count": null,
   "metadata": {},
   "outputs": [],
   "source": []
  }
 ],
 "metadata": {
  "kernelspec": {
   "display_name": "Python 3",
   "language": "python",
   "name": "python3"
  },
  "language_info": {
   "codemirror_mode": {
    "name": "ipython",
    "version": 3
   },
   "file_extension": ".py",
   "mimetype": "text/x-python",
   "name": "python",
   "nbconvert_exporter": "python",
   "pygments_lexer": "ipython3",
   "version": "3.7.3"
  }
 },
 "nbformat": 4,
 "nbformat_minor": 2
}
