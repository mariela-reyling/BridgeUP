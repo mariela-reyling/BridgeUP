{
 "cells": [
  {
   "cell_type": "markdown",
   "metadata": {},
   "source": [
    "## Final Project Notebook\n",
    "\n",
    "Import libraries that we need"
   ]
  },
  {
   "cell_type": "code",
   "execution_count": 67,
   "metadata": {},
   "outputs": [],
   "source": [
    "import matplotlib.pyplot as plt\n",
    "import numpy as np\n",
    "import csv"
   ]
  },
  {
   "cell_type": "markdown",
   "metadata": {},
   "source": [
    "Open up the files"
   ]
  },
  {
   "cell_type": "code",
   "execution_count": 79,
   "metadata": {},
   "outputs": [],
   "source": [
    "csvFile = open(\"PracticalSalinityUnits_Dec_2011.csv\", 'r') \n",
    "csvReader = csv.reader(csvFile, delimiter=',')\n",
    "data_lists = list(csvReader)"
   ]
  },
  {
   "cell_type": "markdown",
   "metadata": {},
   "source": [
    "Calculate the number of data points in one row (width) "
   ]
  },
  {
   "cell_type": "code",
   "execution_count": 80,
   "metadata": {},
   "outputs": [
    {
     "name": "stdout",
     "output_type": "stream",
     "text": [
      "720\n"
     ]
    }
   ],
   "source": [
    "print(len(data_lists[0]))"
   ]
  },
  {
   "cell_type": "markdown",
   "metadata": {},
   "source": [
    "Calculate the number of rows (length)"
   ]
  },
  {
   "cell_type": "code",
   "execution_count": 81,
   "metadata": {},
   "outputs": [
    {
     "name": "stdout",
     "output_type": "stream",
     "text": [
      "360\n"
     ]
    }
   ],
   "source": [
    "print(len(data_lists))"
   ]
  },
  {
   "cell_type": "markdown",
   "metadata": {},
   "source": [
    "Set as variables"
   ]
  },
  {
   "cell_type": "code",
   "execution_count": 82,
   "metadata": {},
   "outputs": [],
   "source": [
    "wid = 720\n",
    "hei = 360 "
   ]
  },
  {
   "cell_type": "markdown",
   "metadata": {},
   "source": [
    "Create a empty matrix using the numpy function"
   ]
  },
  {
   "cell_type": "code",
   "execution_count": 83,
   "metadata": {},
   "outputs": [],
   "source": [
    "grid = np.empty([hei, wid, 3], dtype=np.uint8) "
   ]
  },
  {
   "cell_type": "markdown",
   "metadata": {},
   "source": [
    "Put all data in a single list "
   ]
  },
  {
   "cell_type": "code",
   "execution_count": 84,
   "metadata": {},
   "outputs": [],
   "source": [
    "all_values = [] #sono chino sadame JOOOOOOOOOOOOOOOOOOOOOOOOOOOOOOOOOOOOOOOOOOOOOOOOOOOOOOOOOOOOOOOjo\n",
    "\n",
    "for r, row in enumerate(data_lists):\n",
    "    for c, value in enumerate(row):\n",
    "        if float(value) < 99999:\n",
    "            all_values.append(float(value)) \n",
    "        if float(value) <= 30: \n",
    "            grid[r, c] = [254, 250, 255]\n",
    "        elif float(value) <= 31: \n",
    "            grid[r, c] = [249, 227, 255]\n",
    "        elif float(value) <= 32:\n",
    "            grid[r, c] = [247, 207, 255] \n",
    "        elif float(value) <= 33:\n",
    "            grid[r, c] = [244, 184, 255] \n",
    "        elif float(value) <= 34:\n",
    "            grid[r, c] = [242, 181, 255] \n",
    "        elif float(value) <= 35:\n",
    "            grid[r, c] = [240, 166, 255]\n",
    "        elif float(value) <= 36:\n",
    "            grid[r, c] = [235, 133, 255] \n",
    "        elif float(value) <= 37:\n",
    "            grid[r, c] = [217, 28, 255] \n",
    "        elif float(value) <= 38:\n",
    "            grid[r, c] = [157, 0, 189] \n",
    "        else:\n",
    "            grid[r, c] = [0, 0, 0]"
   ]
  },
  {
   "cell_type": "markdown",
   "metadata": {},
   "source": [
    "Calculate the maximum and minimum"
   ]
  },
  {
   "cell_type": "code",
   "execution_count": 85,
   "metadata": {},
   "outputs": [
    {
     "name": "stdout",
     "output_type": "stream",
     "text": [
      "38.0\n",
      "30.0\n"
     ]
    }
   ],
   "source": [
    "print(max(all_values))\n",
    "print(min(all_values))"
   ]
  },
  {
   "cell_type": "code",
   "execution_count": 98,
   "metadata": {},
   "outputs": [
    {
     "name": "stderr",
     "output_type": "stream",
     "text": [
      "'c' argument looks like a single numeric RGB or RGBA sequence, which should be avoided as value-mapping will have precedence in case its length matches with 'x' & 'y'.  Please use a 2-D array with a single row if you really want to specify the same RGB or RGBA value for all points.\n",
      "'c' argument looks like a single numeric RGB or RGBA sequence, which should be avoided as value-mapping will have precedence in case its length matches with 'x' & 'y'.  Please use a 2-D array with a single row if you really want to specify the same RGB or RGBA value for all points.\n",
      "'c' argument looks like a single numeric RGB or RGBA sequence, which should be avoided as value-mapping will have precedence in case its length matches with 'x' & 'y'.  Please use a 2-D array with a single row if you really want to specify the same RGB or RGBA value for all points.\n"
     ]
    },
    {
     "data": {
      "text/plain": [
       "<function matplotlib.pyplot.show(*args, **kw)>"
      ]
     },
     "execution_count": 98,
     "metadata": {},
     "output_type": "execute_result"
    },
    {
     "data": {
      "image/png": "[encoded data removed]",
      "text/plain": [
       "<Figure size 432x288 with 1 Axes>"
      ]
     },
     "metadata": {
      "needs_background": "light"
     },
     "output_type": "display_data"
    }
   ],
   "source": [
    "plt.scatter([],[],c=(254/255,250/255,255/255),label=\"30 PSU\", edgecolor = \"black\")\n",
    "plt.scatter([],[],c=(242/255,181/255,255/255),label=\"34 PSU\", edgecolor = \"black\")\n",
    "plt.scatter([],[],c=(157/255,0/255,189/255),label=\"38 PSU\", edgecolor = \"black\")\n",
    "plt.legend(bbox_to_anchor =[1.25, 1.0])\n",
    "plt.title(\"Salinity Levels in December 2011\")\n",
    "plt.imshow(grid)\n",
    "plt.axis('off')\n",
    "plt.savefig(\"SalinityLevels2011\",dpi = 1500)\n",
    "plt.show\n"
   ]
  },
  {
   "cell_type": "code",
   "execution_count": null,
   "metadata": {},
   "outputs": [],
   "source": []
  },
  {
   "cell_type": "code",
   "execution_count": null,
   "metadata": {},
   "outputs": [],
   "source": []
  },
  {
   "cell_type": "code",
   "execution_count": null,
   "metadata": {},
   "outputs": [],
   "source": []
  }
 ],
 "metadata": {
  "kernelspec": {
   "display_name": "Python 3",
   "language": "python",
   "name": "python3"
  },
  "language_info": {
   "codemirror_mode": {
    "name": "ipython",
    "version": 3
   },
   "file_extension": ".py",
   "mimetype": "text/x-python",
   "name": "python",
   "nbconvert_exporter": "python",
   "pygments_lexer": "ipython3",
   "version": "3.7.3"
  }
 },
 "nbformat": 4,
 "nbformat_minor": 2
}
